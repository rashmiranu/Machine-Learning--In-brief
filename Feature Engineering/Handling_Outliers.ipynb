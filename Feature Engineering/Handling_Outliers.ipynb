{
  "nbformat": 4,
  "nbformat_minor": 0,
  "metadata": {
    "colab": {
      "name": "Outliers.ipynb",
      "provenance": []
    },
    "kernelspec": {
      "name": "python3",
      "display_name": "Python 3"
    }
  },
  "cells": [
    {
      "cell_type": "markdown",
      "metadata": {
        "id": "pIqF_4wUf1kZ"
      },
      "source": [
        "## What is an Outlier? <br>\r\n",
        "It is a completely different record or data point which deviates so much from the other data points."
      ]
    },
    {
      "cell_type": "markdown",
      "metadata": {
        "id": "BL1p-1kXgZi8"
      },
      "source": [
        "## Why there are outliers in a dataset?\r\n",
        "The outliers can be a result of a mistake during data collection or it can be just an indication of variance in your data.\r\n",
        "\r\n",
        "*For instance, there is a column of salary of people whose age is between 25 to 30. Now most of the times you will see salaries between 3 to 6 lakhs. But there are certain exceptions where salary is 44 and 50 lakhs also. This can be a mistake or it is showing a variance in your data that there are people who earn that much in that age.*\r\n",
        "\r\n",
        "Now how would you decide whether these outliers are important or not. If they are the result of mistake, we can ignore them, but if it is a variance in the data we would need to think.\r\n",
        "Suppose there are atleast 30% outliers in a data indicates there is some interesting and meaning insight in outliers and you should not remove them."
      ]
    },
    {
      "cell_type": "markdown",
      "metadata": {
        "id": "XMU8TZQCgj_c"
      },
      "source": [
        "## Why outliers should be treated?\r\n",
        "Outliers cause significant impact on the Mean and Variance. Also making our model less accurate."
      ]
    },
    {
      "cell_type": "markdown",
      "metadata": {
        "id": "T0BouMwOhyjj"
      },
      "source": [
        "## How outliers should be treated?\r\n",
        "If they are the **result of mistake**, we can remove them.<br>\r\n",
        "If it is a **variance** in the data we cannot remove them because an outlier can be very informative about the subject-area and data collection process. So it should be treated in such a way that they do not distort statistical analyses (does not change mean and variance).\r\n",
        "\r\n",
        "\r\n",
        "*   **Z- Score :** If the data follows Normal Distributution\r\n",
        "\r\n",
        "*   **Inter Ouartile Range(IQR) :** If the data is Skewed\r\n",
        "\r\n",
        "\r\n",
        "\r\n"
      ]
    },
    {
      "cell_type": "markdown",
      "metadata": {
        "id": "mk-NEJ2ujN_4"
      },
      "source": [
        "# Working on Titanic Dataset<br>\r\n",
        "*Let's treat Outliers in `Age` column.*"
      ]
    },
    {
      "cell_type": "code",
      "metadata": {
        "colab": {
          "base_uri": "https://localhost:8080/",
          "height": 238
        },
        "id": "-mrgHsoBf3Lg",
        "outputId": "53cfd1b6-eefc-421a-b9ce-d7ad361f7835"
      },
      "source": [
        "import pandas as pd\r\n",
        "\r\n",
        "data= pd.read_csv(\"train.csv\")\r\n",
        "data.head()"
      ],
      "execution_count": 1,
      "outputs": [
        {
          "output_type": "execute_result",
          "data": {
            "text/html": [
              "<div>\n",
              "<style scoped>\n",
              "    .dataframe tbody tr th:only-of-type {\n",
              "        vertical-align: middle;\n",
              "    }\n",
              "\n",
              "    .dataframe tbody tr th {\n",
              "        vertical-align: top;\n",
              "    }\n",
              "\n",
              "    .dataframe thead th {\n",
              "        text-align: right;\n",
              "    }\n",
              "</style>\n",
              "<table border=\"1\" class=\"dataframe\">\n",
              "  <thead>\n",
              "    <tr style=\"text-align: right;\">\n",
              "      <th></th>\n",
              "      <th>PassengerId</th>\n",
              "      <th>Survived</th>\n",
              "      <th>Pclass</th>\n",
              "      <th>Name</th>\n",
              "      <th>Sex</th>\n",
              "      <th>Age</th>\n",
              "      <th>SibSp</th>\n",
              "      <th>Parch</th>\n",
              "      <th>Ticket</th>\n",
              "      <th>Fare</th>\n",
              "      <th>Cabin</th>\n",
              "      <th>Embarked</th>\n",
              "    </tr>\n",
              "  </thead>\n",
              "  <tbody>\n",
              "    <tr>\n",
              "      <th>0</th>\n",
              "      <td>1</td>\n",
              "      <td>0</td>\n",
              "      <td>3</td>\n",
              "      <td>Braund, Mr. Owen Harris</td>\n",
              "      <td>male</td>\n",
              "      <td>22.0</td>\n",
              "      <td>1</td>\n",
              "      <td>0</td>\n",
              "      <td>A/5 21171</td>\n",
              "      <td>7.2500</td>\n",
              "      <td>NaN</td>\n",
              "      <td>S</td>\n",
              "    </tr>\n",
              "    <tr>\n",
              "      <th>1</th>\n",
              "      <td>2</td>\n",
              "      <td>1</td>\n",
              "      <td>1</td>\n",
              "      <td>Cumings, Mrs. John Bradley (Florence Briggs Th...</td>\n",
              "      <td>female</td>\n",
              "      <td>38.0</td>\n",
              "      <td>1</td>\n",
              "      <td>0</td>\n",
              "      <td>PC 17599</td>\n",
              "      <td>71.2833</td>\n",
              "      <td>C85</td>\n",
              "      <td>C</td>\n",
              "    </tr>\n",
              "    <tr>\n",
              "      <th>2</th>\n",
              "      <td>3</td>\n",
              "      <td>1</td>\n",
              "      <td>3</td>\n",
              "      <td>Heikkinen, Miss. Laina</td>\n",
              "      <td>female</td>\n",
              "      <td>26.0</td>\n",
              "      <td>0</td>\n",
              "      <td>0</td>\n",
              "      <td>STON/O2. 3101282</td>\n",
              "      <td>7.9250</td>\n",
              "      <td>NaN</td>\n",
              "      <td>S</td>\n",
              "    </tr>\n",
              "    <tr>\n",
              "      <th>3</th>\n",
              "      <td>4</td>\n",
              "      <td>1</td>\n",
              "      <td>1</td>\n",
              "      <td>Futrelle, Mrs. Jacques Heath (Lily May Peel)</td>\n",
              "      <td>female</td>\n",
              "      <td>35.0</td>\n",
              "      <td>1</td>\n",
              "      <td>0</td>\n",
              "      <td>113803</td>\n",
              "      <td>53.1000</td>\n",
              "      <td>C123</td>\n",
              "      <td>S</td>\n",
              "    </tr>\n",
              "    <tr>\n",
              "      <th>4</th>\n",
              "      <td>5</td>\n",
              "      <td>0</td>\n",
              "      <td>3</td>\n",
              "      <td>Allen, Mr. William Henry</td>\n",
              "      <td>male</td>\n",
              "      <td>35.0</td>\n",
              "      <td>0</td>\n",
              "      <td>0</td>\n",
              "      <td>373450</td>\n",
              "      <td>8.0500</td>\n",
              "      <td>NaN</td>\n",
              "      <td>S</td>\n",
              "    </tr>\n",
              "  </tbody>\n",
              "</table>\n",
              "</div>"
            ],
            "text/plain": [
              "   PassengerId  Survived  Pclass  ...     Fare Cabin  Embarked\n",
              "0            1         0       3  ...   7.2500   NaN         S\n",
              "1            2         1       1  ...  71.2833   C85         C\n",
              "2            3         1       3  ...   7.9250   NaN         S\n",
              "3            4         1       1  ...  53.1000  C123         S\n",
              "4            5         0       3  ...   8.0500   NaN         S\n",
              "\n",
              "[5 rows x 12 columns]"
            ]
          },
          "metadata": {
            "tags": []
          },
          "execution_count": 1
        }
      ]
    },
    {
      "cell_type": "markdown",
      "metadata": {
        "id": "kQ2mK9Q2lihD"
      },
      "source": [
        "### *Plotting Box Plot to check Outliers*"
      ]
    },
    {
      "cell_type": "code",
      "metadata": {
        "colab": {
          "base_uri": "https://localhost:8080/",
          "height": 350
        },
        "id": "W_qbLDqikdP4",
        "outputId": "4d587f03-dcc1-46a4-cf3c-03af137d5412"
      },
      "source": [
        "import seaborn as sns\r\n",
        "sns.boxplot(data[\"Age\"])"
      ],
      "execution_count": 2,
      "outputs": [
        {
          "output_type": "stream",
          "text": [
            "/usr/local/lib/python3.6/dist-packages/seaborn/_decorators.py:43: FutureWarning: Pass the following variable as a keyword arg: x. From version 0.12, the only valid positional argument will be `data`, and passing other arguments without an explicit keyword will result in an error or misinterpretation.\n",
            "  FutureWarning\n"
          ],
          "name": "stderr"
        },
        {
          "output_type": "execute_result",
          "data": {
            "text/plain": [
              "<matplotlib.axes._subplots.AxesSubplot at 0x7f8d76224940>"
            ]
          },
          "metadata": {
            "tags": []
          },
          "execution_count": 2
        },
        {
          "output_type": "display_data",
          "data": {
            "image/png": "[encoded data removed]",
            "text/plain": [
              "<Figure size 432x288 with 1 Axes>"
            ]
          },
          "metadata": {
            "tags": [],
            "needs_background": "light"
          }
        }
      ]
    },
    {
      "cell_type": "markdown",
      "metadata": {
        "id": "DtWBl_-KmYM5"
      },
      "source": [
        "So there are outliers "
      ]
    },
    {
      "cell_type": "markdown",
      "metadata": {
        "id": "a17sxdPmmy1R"
      },
      "source": [
        "### *Now let's see what type of distribution does `Age` column follows.*"
      ]
    },
    {
      "cell_type": "code",
      "metadata": {
        "colab": {
          "base_uri": "https://localhost:8080/",
          "height": 355
        },
        "id": "qZx_5UvElv1z",
        "outputId": "879c0e17-e3ac-403f-fb42-0d240930b22b"
      },
      "source": [
        "import matplotlib.pyplot as plt\r\n",
        "%matplotlib inline\r\n",
        "\r\n",
        "plt.figure(figsize=(9,4))\r\n",
        "plt.style.use(\"ggplot\")\r\n",
        "sns.distplot(data[\"Age\"], bins=30)"
      ],
      "execution_count": 3,
      "outputs": [
        {
          "output_type": "stream",
          "text": [
            "/usr/local/lib/python3.6/dist-packages/seaborn/distributions.py:2557: FutureWarning: `distplot` is a deprecated function and will be removed in a future version. Please adapt your code to use either `displot` (a figure-level function with similar flexibility) or `histplot` (an axes-level function for histograms).\n",
            "  warnings.warn(msg, FutureWarning)\n"
          ],
          "name": "stderr"
        },
        {
          "output_type": "execute_result",
          "data": {
            "text/plain": [
              "<matplotlib.axes._subplots.AxesSubplot at 0x7f8d760f1898>"
            ]
          },
          "metadata": {
            "tags": []
          },
          "execution_count": 3
        },
        {
          "output_type": "display_data",
          "data": {
            "image/png": "[encoded data removed]",
            "text/plain": [
              "<Figure size 648x288 with 1 Axes>"
            ]
          },
          "metadata": {
            "tags": [],
            "needs_background": "light"
          }
        }
      ]
    },
    {
      "cell_type": "markdown",
      "metadata": {
        "id": "W5N7oH2Rnydt"
      },
      "source": [
        "*It can be seen that`Age` follows Normal Distribution. So **Z-Score** will work better to find outliers.*"
      ]
    },
    {
      "cell_type": "markdown",
      "metadata": {
        "id": "TGubx_jao2R2"
      },
      "source": [
        "## Z - score\r\n",
        "Z-score is finding the distribution of data where mean is 0 and standard deviation is 1 i.e. normal distribution.\r\n",
        "So according to Empirical Formula 99.7% of data fall within three standard deviations of the mean. Any data point beyond three standard deviations of the mean is considered as an outlier.\r\n",
        "\r\n",
        "Z-score = (x(i) - mean) / standard deviation"
      ]
    },
    {
      "cell_type": "code",
      "metadata": {
        "id": "KoFwOFv9rx9i"
      },
      "source": [
        "# Z-score function to detect outliers\r\n",
        "def detect_outliers(column):\r\n",
        "    threshold=3\r\n",
        "    mean= data[column].mean()\r\n",
        "    std= data[column].std()\r\n",
        "    outliers= []\r\n",
        "    for i in data[column].values:\r\n",
        "        z_score= abs((i-mean)/std)\r\n",
        "        if z_score > 3:\r\n",
        "            outliers.append(i)\r\n",
        "    return outliers"
      ],
      "execution_count": 4,
      "outputs": []
    },
    {
      "cell_type": "code",
      "metadata": {
        "colab": {
          "base_uri": "https://localhost:8080/"
        },
        "id": "_ntCq8c2qQPJ",
        "outputId": "ff5c04d9-f0df-44bf-c9d0-5d5a83e8b947"
      },
      "source": [
        "detect_outliers(\"Age\")"
      ],
      "execution_count": 5,
      "outputs": [
        {
          "output_type": "execute_result",
          "data": {
            "text/plain": [
              "[80.0, 74.0]"
            ]
          },
          "metadata": {
            "tags": []
          },
          "execution_count": 5
        }
      ]
    },
    {
      "cell_type": "markdown",
      "metadata": {
        "id": "f3WwdiPP6l0-"
      },
      "source": [
        "*80 and 74 are the outliers present in `Age`. Let's also see what are the upper and lower boundaries to detect outliers*"
      ]
    },
    {
      "cell_type": "code",
      "metadata": {
        "colab": {
          "base_uri": "https://localhost:8080/"
        },
        "id": "lpvT3qCdr0cH",
        "outputId": "ef6de0c4-f102-4d83-ab47-2d98889fd7d6"
      },
      "source": [
        "print(\"lower boundary :\", data[\"Age\"].mean() - 3*data[\"Age\"].std() )\r\n",
        "print(\"lower boundary :\", data[\"Age\"].mean() + 3*data[\"Age\"].std() )"
      ],
      "execution_count": 6,
      "outputs": [
        {
          "output_type": "stream",
          "text": [
            "lower boundary : -13.88037434994331\n",
            "lower boundary : 73.27860964406095\n"
          ],
          "name": "stdout"
        }
      ]
    },
    {
      "cell_type": "markdown",
      "metadata": {
        "id": "Ts72yeMW7tOD"
      },
      "source": [
        "### Now since we have seen how to use Z- score for normal distributed data, let's also have a look at IQR method to detect outliers. For this I'll be using another dataset with skewed `Age` column."
      ]
    },
    {
      "cell_type": "code",
      "metadata": {
        "colab": {
          "base_uri": "https://localhost:8080/",
          "height": 224
        },
        "id": "oxM9deUM7LtL",
        "outputId": "2398be52-2085-4be2-865f-351bb65d21a5"
      },
      "source": [
        "data2= pd.read_csv(\"new_train.csv\")\r\n",
        "data2.head()"
      ],
      "execution_count": 7,
      "outputs": [
        {
          "output_type": "execute_result",
          "data": {
            "text/html": [
              "<div>\n",
              "<style scoped>\n",
              "    .dataframe tbody tr th:only-of-type {\n",
              "        vertical-align: middle;\n",
              "    }\n",
              "\n",
              "    .dataframe tbody tr th {\n",
              "        vertical-align: top;\n",
              "    }\n",
              "\n",
              "    .dataframe thead th {\n",
              "        text-align: right;\n",
              "    }\n",
              "</style>\n",
              "<table border=\"1\" class=\"dataframe\">\n",
              "  <thead>\n",
              "    <tr style=\"text-align: right;\">\n",
              "      <th></th>\n",
              "      <th>age</th>\n",
              "      <th>job</th>\n",
              "      <th>marital</th>\n",
              "      <th>education</th>\n",
              "      <th>default</th>\n",
              "      <th>housing</th>\n",
              "      <th>loan</th>\n",
              "      <th>contact</th>\n",
              "      <th>month</th>\n",
              "      <th>day_of_week</th>\n",
              "      <th>duration</th>\n",
              "      <th>campaign</th>\n",
              "      <th>pdays</th>\n",
              "      <th>previous</th>\n",
              "      <th>poutcome</th>\n",
              "      <th>y</th>\n",
              "    </tr>\n",
              "  </thead>\n",
              "  <tbody>\n",
              "    <tr>\n",
              "      <th>0</th>\n",
              "      <td>49</td>\n",
              "      <td>blue-collar</td>\n",
              "      <td>married</td>\n",
              "      <td>basic.9y</td>\n",
              "      <td>unknown</td>\n",
              "      <td>no</td>\n",
              "      <td>no</td>\n",
              "      <td>cellular</td>\n",
              "      <td>nov</td>\n",
              "      <td>wed</td>\n",
              "      <td>227</td>\n",
              "      <td>4</td>\n",
              "      <td>999</td>\n",
              "      <td>0</td>\n",
              "      <td>nonexistent</td>\n",
              "      <td>no</td>\n",
              "    </tr>\n",
              "    <tr>\n",
              "      <th>1</th>\n",
              "      <td>37</td>\n",
              "      <td>entrepreneur</td>\n",
              "      <td>married</td>\n",
              "      <td>university.degree</td>\n",
              "      <td>no</td>\n",
              "      <td>no</td>\n",
              "      <td>no</td>\n",
              "      <td>telephone</td>\n",
              "      <td>nov</td>\n",
              "      <td>wed</td>\n",
              "      <td>202</td>\n",
              "      <td>2</td>\n",
              "      <td>999</td>\n",
              "      <td>1</td>\n",
              "      <td>failure</td>\n",
              "      <td>no</td>\n",
              "    </tr>\n",
              "    <tr>\n",
              "      <th>2</th>\n",
              "      <td>78</td>\n",
              "      <td>retired</td>\n",
              "      <td>married</td>\n",
              "      <td>basic.4y</td>\n",
              "      <td>no</td>\n",
              "      <td>no</td>\n",
              "      <td>no</td>\n",
              "      <td>cellular</td>\n",
              "      <td>jul</td>\n",
              "      <td>mon</td>\n",
              "      <td>1148</td>\n",
              "      <td>1</td>\n",
              "      <td>999</td>\n",
              "      <td>0</td>\n",
              "      <td>nonexistent</td>\n",
              "      <td>yes</td>\n",
              "    </tr>\n",
              "    <tr>\n",
              "      <th>3</th>\n",
              "      <td>36</td>\n",
              "      <td>admin.</td>\n",
              "      <td>married</td>\n",
              "      <td>university.degree</td>\n",
              "      <td>no</td>\n",
              "      <td>yes</td>\n",
              "      <td>no</td>\n",
              "      <td>telephone</td>\n",
              "      <td>may</td>\n",
              "      <td>mon</td>\n",
              "      <td>120</td>\n",
              "      <td>2</td>\n",
              "      <td>999</td>\n",
              "      <td>0</td>\n",
              "      <td>nonexistent</td>\n",
              "      <td>no</td>\n",
              "    </tr>\n",
              "    <tr>\n",
              "      <th>4</th>\n",
              "      <td>59</td>\n",
              "      <td>retired</td>\n",
              "      <td>divorced</td>\n",
              "      <td>university.degree</td>\n",
              "      <td>no</td>\n",
              "      <td>no</td>\n",
              "      <td>no</td>\n",
              "      <td>cellular</td>\n",
              "      <td>jun</td>\n",
              "      <td>tue</td>\n",
              "      <td>368</td>\n",
              "      <td>2</td>\n",
              "      <td>999</td>\n",
              "      <td>0</td>\n",
              "      <td>nonexistent</td>\n",
              "      <td>no</td>\n",
              "    </tr>\n",
              "  </tbody>\n",
              "</table>\n",
              "</div>"
            ],
            "text/plain": [
              "   age           job   marital  ... previous     poutcome    y\n",
              "0   49   blue-collar   married  ...        0  nonexistent   no\n",
              "1   37  entrepreneur   married  ...        1      failure   no\n",
              "2   78       retired   married  ...        0  nonexistent  yes\n",
              "3   36        admin.   married  ...        0  nonexistent   no\n",
              "4   59       retired  divorced  ...        0  nonexistent   no\n",
              "\n",
              "[5 rows x 16 columns]"
            ]
          },
          "metadata": {
            "tags": []
          },
          "execution_count": 7
        }
      ]
    },
    {
      "cell_type": "code",
      "metadata": {
        "colab": {
          "base_uri": "https://localhost:8080/",
          "height": 353
        },
        "id": "5H8ee2hU9Vq5",
        "outputId": "a434867f-8474-41be-b6f0-1273bfe34e6c"
      },
      "source": [
        "sns.boxplot(data2[\"age\"])"
      ],
      "execution_count": 8,
      "outputs": [
        {
          "output_type": "stream",
          "text": [
            "/usr/local/lib/python3.6/dist-packages/seaborn/_decorators.py:43: FutureWarning: Pass the following variable as a keyword arg: x. From version 0.12, the only valid positional argument will be `data`, and passing other arguments without an explicit keyword will result in an error or misinterpretation.\n",
            "  FutureWarning\n"
          ],
          "name": "stderr"
        },
        {
          "output_type": "execute_result",
          "data": {
            "text/plain": [
              "<matplotlib.axes._subplots.AxesSubplot at 0x7f8d750e4ac8>"
            ]
          },
          "metadata": {
            "tags": []
          },
          "execution_count": 8
        },
        {
          "output_type": "display_data",
          "data": {
            "image/png": "[encoded data removed]",
            "text/plain": [
              "<Figure size 432x288 with 1 Axes>"
            ]
          },
          "metadata": {
            "tags": []
          }
        }
      ]
    },
    {
      "cell_type": "code",
      "metadata": {
        "colab": {
          "base_uri": "https://localhost:8080/",
          "height": 353
        },
        "id": "7QvAELaR9ip3",
        "outputId": "7943bcf3-5c66-4ed7-f4f3-38d3085e4474"
      },
      "source": [
        "plt.figure(figsize=(9,4))\r\n",
        "plt.style.use(\"ggplot\")\r\n",
        "sns.distplot(data2[\"age\"], bins=30)"
      ],
      "execution_count": 9,
      "outputs": [
        {
          "output_type": "stream",
          "text": [
            "/usr/local/lib/python3.6/dist-packages/seaborn/distributions.py:2557: FutureWarning: `distplot` is a deprecated function and will be removed in a future version. Please adapt your code to use either `displot` (a figure-level function with similar flexibility) or `histplot` (an axes-level function for histograms).\n",
            "  warnings.warn(msg, FutureWarning)\n"
          ],
          "name": "stderr"
        },
        {
          "output_type": "execute_result",
          "data": {
            "text/plain": [
              "<matplotlib.axes._subplots.AxesSubplot at 0x7f8d750bb2e8>"
            ]
          },
          "metadata": {
            "tags": []
          },
          "execution_count": 9
        },
        {
          "output_type": "display_data",
          "data": {
            "image/png": "[encoded data removed]",
            "text/plain": [
              "<Figure size 648x288 with 1 Axes>"
            ]
          },
          "metadata": {
            "tags": []
          }
        }
      ]
    },
    {
      "cell_type": "markdown",
      "metadata": {
        "id": "BDKqFWIs9u6F"
      },
      "source": [
        "# IQR\r\n",
        "\r\n",
        "\r\n",
        "*   Q1 is the \"middle\" value in the first half of the rank-ordered data set. Also **25 percentile**\r\n",
        "*   Q2 is the median value in the set. Also **50 percentile**\r\n",
        "\r\n",
        "\r\n",
        "*   Q3 is the \"middle\" value in the second half of the rank-ordered data set. Also **75 percentile**\r\n",
        "*   IQR = Q3 - Q1\r\n",
        "\r\n",
        "\r\n",
        "\r\n",
        "\r\n",
        "\r\n",
        "\r\n",
        "\r\n",
        "\r\n",
        "\r\n",
        "\r\n",
        "\r\n",
        "\r\n",
        "\r\n",
        "\r\n",
        "\r\n"
      ]
    },
    {
      "cell_type": "code",
      "metadata": {
        "colab": {
          "base_uri": "https://localhost:8080/",
          "height": 297
        },
        "id": "KrwYkaR49rhj",
        "outputId": "b0fe8e0c-a891-4f06-ea1c-a519ba227ff0"
      },
      "source": [
        "data2.describe()"
      ],
      "execution_count": 10,
      "outputs": [
        {
          "output_type": "execute_result",
          "data": {
            "text/html": [
              "<div>\n",
              "<style scoped>\n",
              "    .dataframe tbody tr th:only-of-type {\n",
              "        vertical-align: middle;\n",
              "    }\n",
              "\n",
              "    .dataframe tbody tr th {\n",
              "        vertical-align: top;\n",
              "    }\n",
              "\n",
              "    .dataframe thead th {\n",
              "        text-align: right;\n",
              "    }\n",
              "</style>\n",
              "<table border=\"1\" class=\"dataframe\">\n",
              "  <thead>\n",
              "    <tr style=\"text-align: right;\">\n",
              "      <th></th>\n",
              "      <th>age</th>\n",
              "      <th>duration</th>\n",
              "      <th>campaign</th>\n",
              "      <th>pdays</th>\n",
              "      <th>previous</th>\n",
              "    </tr>\n",
              "  </thead>\n",
              "  <tbody>\n",
              "    <tr>\n",
              "      <th>count</th>\n",
              "      <td>32950.000000</td>\n",
              "      <td>32950.000000</td>\n",
              "      <td>32950.000000</td>\n",
              "      <td>32950.000000</td>\n",
              "      <td>32950.000000</td>\n",
              "    </tr>\n",
              "    <tr>\n",
              "      <th>mean</th>\n",
              "      <td>40.014112</td>\n",
              "      <td>258.127466</td>\n",
              "      <td>2.560607</td>\n",
              "      <td>962.052413</td>\n",
              "      <td>0.174719</td>\n",
              "    </tr>\n",
              "    <tr>\n",
              "      <th>std</th>\n",
              "      <td>10.403636</td>\n",
              "      <td>258.975917</td>\n",
              "      <td>2.752326</td>\n",
              "      <td>187.951096</td>\n",
              "      <td>0.499025</td>\n",
              "    </tr>\n",
              "    <tr>\n",
              "      <th>min</th>\n",
              "      <td>17.000000</td>\n",
              "      <td>0.000000</td>\n",
              "      <td>1.000000</td>\n",
              "      <td>0.000000</td>\n",
              "      <td>0.000000</td>\n",
              "    </tr>\n",
              "    <tr>\n",
              "      <th>25%</th>\n",
              "      <td>32.000000</td>\n",
              "      <td>103.000000</td>\n",
              "      <td>1.000000</td>\n",
              "      <td>999.000000</td>\n",
              "      <td>0.000000</td>\n",
              "    </tr>\n",
              "    <tr>\n",
              "      <th>50%</th>\n",
              "      <td>38.000000</td>\n",
              "      <td>180.000000</td>\n",
              "      <td>2.000000</td>\n",
              "      <td>999.000000</td>\n",
              "      <td>0.000000</td>\n",
              "    </tr>\n",
              "    <tr>\n",
              "      <th>75%</th>\n",
              "      <td>47.000000</td>\n",
              "      <td>319.000000</td>\n",
              "      <td>3.000000</td>\n",
              "      <td>999.000000</td>\n",
              "      <td>0.000000</td>\n",
              "    </tr>\n",
              "    <tr>\n",
              "      <th>max</th>\n",
              "      <td>98.000000</td>\n",
              "      <td>4918.000000</td>\n",
              "      <td>56.000000</td>\n",
              "      <td>999.000000</td>\n",
              "      <td>7.000000</td>\n",
              "    </tr>\n",
              "  </tbody>\n",
              "</table>\n",
              "</div>"
            ],
            "text/plain": [
              "                age      duration      campaign         pdays      previous\n",
              "count  32950.000000  32950.000000  32950.000000  32950.000000  32950.000000\n",
              "mean      40.014112    258.127466      2.560607    962.052413      0.174719\n",
              "std       10.403636    258.975917      2.752326    187.951096      0.499025\n",
              "min       17.000000      0.000000      1.000000      0.000000      0.000000\n",
              "25%       32.000000    103.000000      1.000000    999.000000      0.000000\n",
              "50%       38.000000    180.000000      2.000000    999.000000      0.000000\n",
              "75%       47.000000    319.000000      3.000000    999.000000      0.000000\n",
              "max       98.000000   4918.000000     56.000000    999.000000      7.000000"
            ]
          },
          "metadata": {
            "tags": []
          },
          "execution_count": 10
        }
      ]
    },
    {
      "cell_type": "markdown",
      "metadata": {
        "id": "GGNBkUHzA7a4"
      },
      "source": [
        "### Compute interquantile range to calculate the boundaries"
      ]
    },
    {
      "cell_type": "code",
      "metadata": {
        "colab": {
          "base_uri": "https://localhost:8080/"
        },
        "id": "clPAFlMh-ATP",
        "outputId": "64415de5-cd24-4802-b01b-d1f710b421a2"
      },
      "source": [
        "Q3= data2[\"age\"].quantile(0.75)  # this can also be taken from above 75% = 47\r\n",
        "Q1= data2[\"age\"].quantile(0.25)  # 25% = 32\r\n",
        "IQR= Q3 - Q1\r\n",
        " \r\n",
        "# lower and upper boundaries\r\n",
        "lower_bound= data2[\"age\"].quantile(0.25) - (1.5*IQR)\r\n",
        "upper_bound= data2[\"age\"].quantile(0.75) + (1.5*IQR)\r\n",
        "\r\n",
        "print(\"lower_bound:\", lower_bound,\"\\n\"\"upper_bound:\", upper_bound)"
      ],
      "execution_count": 11,
      "outputs": [
        {
          "output_type": "stream",
          "text": [
            "lower_bound: 9.5 \n",
            "upper_bound: 69.5\n"
          ],
          "name": "stdout"
        }
      ]
    },
    {
      "cell_type": "markdown",
      "metadata": {
        "id": "sZxLM7xAAlTX"
      },
      "source": [
        "\r\n",
        "*So any data point below lower_bound and upper_bound will be considered as outliers*"
      ]
    },
    {
      "cell_type": "code",
      "metadata": {
        "colab": {
          "base_uri": "https://localhost:8080/"
        },
        "id": "kJ7ulBVbAgny",
        "outputId": "18c8396e-34df-4b1c-a7ba-fe2f61c039ba"
      },
      "source": [
        "# following are the outliers in age\r\n",
        "data2[(data2[\"age\"] > upper_bound) | (data2[\"age\"] < lower_bound)][\"age\"]"
      ],
      "execution_count": 12,
      "outputs": [
        {
          "output_type": "execute_result",
          "data": {
            "text/plain": [
              "2        78\n",
              "68       71\n",
              "88       77\n",
              "109      80\n",
              "280      81\n",
              "         ..\n",
              "32165    82\n",
              "32186    76\n",
              "32464    70\n",
              "32554    76\n",
              "32826    80\n",
              "Name: age, Length: 368, dtype: int64"
            ]
          },
          "metadata": {
            "tags": []
          },
          "execution_count": 12
        }
      ]
    },
    {
      "cell_type": "markdown",
      "metadata": {
        "id": "QAUojmY53oQJ"
      },
      "source": [
        "# Handling Outliers\n",
        "*Since we cannot remove the outliers in every case, we will replace them by some value.*<br> \n",
        "### Replacing the outliers in Age column of Titanic dataset"
      ]
    },
    {
      "cell_type": "code",
      "metadata": {
        "colab": {
          "base_uri": "https://localhost:8080/"
        },
        "id": "irxh5N_e4tNR",
        "outputId": "c4459abd-e9ab-4888-e57c-2e9d419a6de1"
      },
      "source": [
        "# for titanic data upper and lower boundaries are\n",
        "print(\"lower_bundary:\", data[\"Age\"].mean() - 3*data[\"Age\"].std())\n",
        "print(\"upper_boundary:\", data[\"Age\"].mean() + 3*data[\"Age\"].std())"
      ],
      "execution_count": 13,
      "outputs": [
        {
          "output_type": "stream",
          "text": [
            "lower_bundary: -13.88037434994331\n",
            "upper_boundary: 73.27860964406095\n"
          ],
          "name": "stdout"
        }
      ]
    },
    {
      "cell_type": "code",
      "metadata": {
        "id": "LS1uf6GT4rb0"
      },
      "source": [
        "# replace the all the Age values which is greater then 73 by 73\n",
        "data_without_outliers= data.copy()\n",
        "data_without_outliers.loc[data_without_outliers[\"Age\"] > 73, \"Age\"] = 73"
      ],
      "execution_count": 14,
      "outputs": []
    },
    {
      "cell_type": "markdown",
      "metadata": {
        "id": "tOBArav349i_"
      },
      "source": [
        "### Now compare data with and without outliers"
      ]
    },
    {
      "cell_type": "code",
      "metadata": {
        "colab": {
          "base_uri": "https://localhost:8080/"
        },
        "id": "KYlo8gYX5GwH",
        "outputId": "8698a93a-8b09-456f-ffde-a6dd26ce06b2"
      },
      "source": [
        "# with outliers in Age\n",
        "data= pd.read_csv(\"train.csv\")\n",
        "data[\"Age\"].describe()"
      ],
      "execution_count": 16,
      "outputs": [
        {
          "output_type": "execute_result",
          "data": {
            "text/plain": [
              "count    714.000000\n",
              "mean      29.699118\n",
              "std       14.526497\n",
              "min        0.420000\n",
              "25%       20.125000\n",
              "50%       28.000000\n",
              "75%       38.000000\n",
              "max       80.000000\n",
              "Name: Age, dtype: float64"
            ]
          },
          "metadata": {
            "tags": []
          },
          "execution_count": 16
        }
      ]
    },
    {
      "cell_type": "code",
      "metadata": {
        "colab": {
          "base_uri": "https://localhost:8080/"
        },
        "id": "C52C3D6b5H-u",
        "outputId": "8713aa96-4b89-4adb-edd7-71bb50b0f0de"
      },
      "source": [
        "# without outliers in Age\n",
        "data_without_outliers[\"Age\"].describe()"
      ],
      "execution_count": 17,
      "outputs": [
        {
          "output_type": "execute_result",
          "data": {
            "text/plain": [
              "count    714.000000\n",
              "mean      29.687913\n",
              "std       14.490589\n",
              "min        0.420000\n",
              "25%       20.125000\n",
              "50%       28.000000\n",
              "75%       38.000000\n",
              "max       73.000000\n",
              "Name: Age, dtype: float64"
            ]
          },
          "metadata": {
            "tags": []
          },
          "execution_count": 17
        }
      ]
    },
    {
      "cell_type": "markdown",
      "metadata": {
        "id": "oINmtZBs5eam"
      },
      "source": [
        "*We can see that after replacing the outliers with the upper boundary, the maximum age value has been changed from 80 to 73 without impacting any other parameters like mean, standard deviation and quartiles.*"
      ]
    },
    {
      "cell_type": "code",
      "metadata": {
        "id": "JqsX3qfa5bnv"
      },
      "source": [
        ""
      ],
      "execution_count": null,
      "outputs": []
    }
  ]
}