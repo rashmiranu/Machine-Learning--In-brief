{
  "nbformat": 4,
  "nbformat_minor": 0,
  "metadata": {
    "colab": {
      "name": "Feature_scaling.ipynb",
      "provenance": []
    },
    "kernelspec": {
      "name": "python3",
      "display_name": "Python 3"
    }
  },
  "cells": [
    {
      "cell_type": "markdown",
      "metadata": {
        "id": "sPLIWJ2fYRUg"
      },
      "source": [
        "# Why should we perform Feature Scaling"
      ]
    },
    {
      "cell_type": "markdown",
      "metadata": {
        "id": "N0PLH49CQbMe"
      },
      "source": [
        "**Gradient Descent based algorithms**<br>\r\n",
        "*According to gradient descent formula, the features will affect the step size of the gradient descent. The algorithm will reach the minima faster if the features are in range [0,1] or [-1,1]*\r\n",
        "\r\n",
        "**Distance based algorithms**<br>\r\n",
        "*In calculating the euclidean distance between two data points is highly affected by the magnitude of that data points. And since both the features are in different scales,  there is a chance that higher weightage is given to features with higher magnitude.*"
      ]
    },
    {
      "cell_type": "markdown",
      "metadata": {
        "id": "0ylkDb1kZaH9"
      },
      "source": [
        "# Algoritmhs to be feature scaled \r\n",
        "### Gradient descent based :\r\n",
        "- Linear Regression\r\n",
        "- Logistic Regression\r\n",
        "- Neural Networks \r\n",
        "\r\n",
        "\r\n"
      ]
    },
    {
      "cell_type": "markdown",
      "metadata": {
        "id": "eQ9zpwBcbeeS"
      },
      "source": [
        "### Distance based :\r\n",
        "- KNN\r\n",
        "- K-means clustering\r\n",
        "- SVM"
      ]
    },
    {
      "cell_type": "markdown",
      "metadata": {
        "id": "JVDWnZGJbt4g"
      },
      "source": [
        "# Algorithms need not to be feature scaled \r\n",
        "- Decision Tree\r\n",
        "- Bagging algorithms\r\n",
        "- Boosting algorithms"
      ]
    },
    {
      "cell_type": "code",
      "metadata": {
        "id": "7qCdt_2xzTE6"
      },
      "source": [
        "import pandas as pd"
      ],
      "execution_count": null,
      "outputs": []
    },
    {
      "cell_type": "code",
      "metadata": {
        "colab": {
          "base_uri": "https://localhost:8080/",
          "height": 204
        },
        "id": "f8b0FDQEz_9M",
        "outputId": "9c3ebf16-595d-4673-83f3-155fb1f3fa93"
      },
      "source": [
        "data= pd.read_csv(\"/content/drive/MyDrive/Data Science /datasets/telecom_churn.csv\")\r\n",
        "data.head()"
      ],
      "execution_count": null,
      "outputs": [
        {
          "output_type": "execute_result",
          "data": {
            "text/html": [
              "<div>\n",
              "<style scoped>\n",
              "    .dataframe tbody tr th:only-of-type {\n",
              "        vertical-align: middle;\n",
              "    }\n",
              "\n",
              "    .dataframe tbody tr th {\n",
              "        vertical-align: top;\n",
              "    }\n",
              "\n",
              "    .dataframe thead th {\n",
              "        text-align: right;\n",
              "    }\n",
              "</style>\n",
              "<table border=\"1\" class=\"dataframe\">\n",
              "  <thead>\n",
              "    <tr style=\"text-align: right;\">\n",
              "      <th></th>\n",
              "      <th>Churn</th>\n",
              "      <th>AccountWeeks</th>\n",
              "      <th>ContractRenewal</th>\n",
              "      <th>DataPlan</th>\n",
              "      <th>DataUsage</th>\n",
              "      <th>CustServCalls</th>\n",
              "      <th>DayMins</th>\n",
              "      <th>DayCalls</th>\n",
              "      <th>MonthlyCharge</th>\n",
              "      <th>OverageFee</th>\n",
              "      <th>RoamMins</th>\n",
              "    </tr>\n",
              "  </thead>\n",
              "  <tbody>\n",
              "    <tr>\n",
              "      <th>0</th>\n",
              "      <td>0</td>\n",
              "      <td>128</td>\n",
              "      <td>1</td>\n",
              "      <td>1</td>\n",
              "      <td>2.7</td>\n",
              "      <td>1</td>\n",
              "      <td>265.1</td>\n",
              "      <td>110</td>\n",
              "      <td>89.0</td>\n",
              "      <td>9.87</td>\n",
              "      <td>10.0</td>\n",
              "    </tr>\n",
              "    <tr>\n",
              "      <th>1</th>\n",
              "      <td>0</td>\n",
              "      <td>107</td>\n",
              "      <td>1</td>\n",
              "      <td>1</td>\n",
              "      <td>3.7</td>\n",
              "      <td>1</td>\n",
              "      <td>161.6</td>\n",
              "      <td>123</td>\n",
              "      <td>82.0</td>\n",
              "      <td>9.78</td>\n",
              "      <td>13.7</td>\n",
              "    </tr>\n",
              "    <tr>\n",
              "      <th>2</th>\n",
              "      <td>0</td>\n",
              "      <td>137</td>\n",
              "      <td>1</td>\n",
              "      <td>0</td>\n",
              "      <td>0.0</td>\n",
              "      <td>0</td>\n",
              "      <td>243.4</td>\n",
              "      <td>114</td>\n",
              "      <td>52.0</td>\n",
              "      <td>6.06</td>\n",
              "      <td>12.2</td>\n",
              "    </tr>\n",
              "    <tr>\n",
              "      <th>3</th>\n",
              "      <td>0</td>\n",
              "      <td>84</td>\n",
              "      <td>0</td>\n",
              "      <td>0</td>\n",
              "      <td>0.0</td>\n",
              "      <td>2</td>\n",
              "      <td>299.4</td>\n",
              "      <td>71</td>\n",
              "      <td>57.0</td>\n",
              "      <td>3.10</td>\n",
              "      <td>6.6</td>\n",
              "    </tr>\n",
              "    <tr>\n",
              "      <th>4</th>\n",
              "      <td>0</td>\n",
              "      <td>75</td>\n",
              "      <td>0</td>\n",
              "      <td>0</td>\n",
              "      <td>0.0</td>\n",
              "      <td>3</td>\n",
              "      <td>166.7</td>\n",
              "      <td>113</td>\n",
              "      <td>41.0</td>\n",
              "      <td>7.42</td>\n",
              "      <td>10.1</td>\n",
              "    </tr>\n",
              "  </tbody>\n",
              "</table>\n",
              "</div>"
            ],
            "text/plain": [
              "   Churn  AccountWeeks  ContractRenewal  ...  MonthlyCharge  OverageFee  RoamMins\n",
              "0      0           128                1  ...           89.0        9.87      10.0\n",
              "1      0           107                1  ...           82.0        9.78      13.7\n",
              "2      0           137                1  ...           52.0        6.06      12.2\n",
              "3      0            84                0  ...           57.0        3.10       6.6\n",
              "4      0            75                0  ...           41.0        7.42      10.1\n",
              "\n",
              "[5 rows x 11 columns]"
            ]
          },
          "metadata": {
            "tags": []
          },
          "execution_count": 3
        }
      ]
    },
    {
      "cell_type": "code",
      "metadata": {
        "id": "uOoBq3Pd3KzD"
      },
      "source": [
        "features= data.iloc[:, 1:]\r\n",
        "target= data.iloc[:, 0]"
      ],
      "execution_count": null,
      "outputs": []
    },
    {
      "cell_type": "markdown",
      "metadata": {
        "id": "Dpdi-Y5r1smI"
      },
      "source": [
        "## Normalization- Min Max Scaler"
      ]
    },
    {
      "cell_type": "code",
      "metadata": {
        "colab": {
          "base_uri": "https://localhost:8080/"
        },
        "id": "iamPsMHB0F32",
        "outputId": "ddefcd22-1fb5-4281-e2ea-f7e349e53398"
      },
      "source": [
        "from sklearn.preprocessing import MinMaxScaler\r\n",
        "\r\n",
        "scaling= MinMaxScaler() \r\n",
        "scaled_features= scaling.fit_transform(features)\r\n",
        "scaled_features"
      ],
      "execution_count": null,
      "outputs": [
        {
          "output_type": "execute_result",
          "data": {
            "text/plain": [
              "array([[0.52479339, 1.        , 1.        , ..., 0.77081192, 0.54260583,\n",
              "        0.5       ],\n",
              "       [0.43801653, 1.        , 1.        , ..., 0.69886948, 0.53765805,\n",
              "        0.685     ],\n",
              "       [0.56198347, 1.        , 0.        , ..., 0.39054471, 0.33315008,\n",
              "        0.61      ],\n",
              "       ...,\n",
              "       [0.11157025, 1.        , 0.        , ..., 0.43165468, 0.79384277,\n",
              "        0.705     ],\n",
              "       [0.75619835, 0.        , 0.        , ..., 0.36998972, 0.43870258,\n",
              "        0.25      ],\n",
              "       [0.30165289, 1.        , 1.        , ..., 0.88386434, 0.73117097,\n",
              "        0.685     ]])"
            ]
          },
          "metadata": {
            "tags": []
          },
          "execution_count": 13
        }
      ]
    },
    {
      "cell_type": "code",
      "metadata": {
        "colab": {
          "base_uri": "https://localhost:8080/",
          "height": 204
        },
        "id": "6U9ENy8m19hy",
        "outputId": "31406222-a136-4aea-94ec-f98143f33a62"
      },
      "source": [
        "features_scaled_df= pd.DataFrame(scaled_features, columns= features.columns)\r\n",
        "features_scaled_df.head()"
      ],
      "execution_count": null,
      "outputs": [
        {
          "output_type": "execute_result",
          "data": {
            "text/html": [
              "<div>\n",
              "<style scoped>\n",
              "    .dataframe tbody tr th:only-of-type {\n",
              "        vertical-align: middle;\n",
              "    }\n",
              "\n",
              "    .dataframe tbody tr th {\n",
              "        vertical-align: top;\n",
              "    }\n",
              "\n",
              "    .dataframe thead th {\n",
              "        text-align: right;\n",
              "    }\n",
              "</style>\n",
              "<table border=\"1\" class=\"dataframe\">\n",
              "  <thead>\n",
              "    <tr style=\"text-align: right;\">\n",
              "      <th></th>\n",
              "      <th>AccountWeeks</th>\n",
              "      <th>ContractRenewal</th>\n",
              "      <th>DataPlan</th>\n",
              "      <th>DataUsage</th>\n",
              "      <th>CustServCalls</th>\n",
              "      <th>DayMins</th>\n",
              "      <th>DayCalls</th>\n",
              "      <th>MonthlyCharge</th>\n",
              "      <th>OverageFee</th>\n",
              "      <th>RoamMins</th>\n",
              "    </tr>\n",
              "  </thead>\n",
              "  <tbody>\n",
              "    <tr>\n",
              "      <th>0</th>\n",
              "      <td>0.524793</td>\n",
              "      <td>1.0</td>\n",
              "      <td>1.0</td>\n",
              "      <td>0.500000</td>\n",
              "      <td>0.111111</td>\n",
              "      <td>0.755701</td>\n",
              "      <td>0.666667</td>\n",
              "      <td>0.770812</td>\n",
              "      <td>0.542606</td>\n",
              "      <td>0.500</td>\n",
              "    </tr>\n",
              "    <tr>\n",
              "      <th>1</th>\n",
              "      <td>0.438017</td>\n",
              "      <td>1.0</td>\n",
              "      <td>1.0</td>\n",
              "      <td>0.685185</td>\n",
              "      <td>0.111111</td>\n",
              "      <td>0.460661</td>\n",
              "      <td>0.745455</td>\n",
              "      <td>0.698869</td>\n",
              "      <td>0.537658</td>\n",
              "      <td>0.685</td>\n",
              "    </tr>\n",
              "    <tr>\n",
              "      <th>2</th>\n",
              "      <td>0.561983</td>\n",
              "      <td>1.0</td>\n",
              "      <td>0.0</td>\n",
              "      <td>0.000000</td>\n",
              "      <td>0.000000</td>\n",
              "      <td>0.693843</td>\n",
              "      <td>0.690909</td>\n",
              "      <td>0.390545</td>\n",
              "      <td>0.333150</td>\n",
              "      <td>0.610</td>\n",
              "    </tr>\n",
              "    <tr>\n",
              "      <th>3</th>\n",
              "      <td>0.342975</td>\n",
              "      <td>0.0</td>\n",
              "      <td>0.0</td>\n",
              "      <td>0.000000</td>\n",
              "      <td>0.222222</td>\n",
              "      <td>0.853478</td>\n",
              "      <td>0.430303</td>\n",
              "      <td>0.441932</td>\n",
              "      <td>0.170423</td>\n",
              "      <td>0.330</td>\n",
              "    </tr>\n",
              "    <tr>\n",
              "      <th>4</th>\n",
              "      <td>0.305785</td>\n",
              "      <td>0.0</td>\n",
              "      <td>0.0</td>\n",
              "      <td>0.000000</td>\n",
              "      <td>0.333333</td>\n",
              "      <td>0.475200</td>\n",
              "      <td>0.684848</td>\n",
              "      <td>0.277492</td>\n",
              "      <td>0.407916</td>\n",
              "      <td>0.505</td>\n",
              "    </tr>\n",
              "  </tbody>\n",
              "</table>\n",
              "</div>"
            ],
            "text/plain": [
              "   AccountWeeks  ContractRenewal  DataPlan  ...  MonthlyCharge  OverageFee  RoamMins\n",
              "0      0.524793              1.0       1.0  ...       0.770812    0.542606     0.500\n",
              "1      0.438017              1.0       1.0  ...       0.698869    0.537658     0.685\n",
              "2      0.561983              1.0       0.0  ...       0.390545    0.333150     0.610\n",
              "3      0.342975              0.0       0.0  ...       0.441932    0.170423     0.330\n",
              "4      0.305785              0.0       0.0  ...       0.277492    0.407916     0.505\n",
              "\n",
              "[5 rows x 10 columns]"
            ]
          },
          "metadata": {
            "tags": []
          },
          "execution_count": 17
        }
      ]
    },
    {
      "cell_type": "markdown",
      "metadata": {
        "id": "WuAzciNLQZ8T"
      },
      "source": [
        ""
      ]
    },
    {
      "cell_type": "markdown",
      "metadata": {
        "id": "lzMiNERL4fpL"
      },
      "source": [
        "## Standardization- Z Score Normalization"
      ]
    },
    {
      "cell_type": "code",
      "metadata": {
        "colab": {
          "base_uri": "https://localhost:8080/"
        },
        "id": "ST-spgfe4JAb",
        "outputId": "15adff67-2147-4989-a2f7-d47e46a9bc06"
      },
      "source": [
        "from sklearn.preprocessing import StandardScaler\r\n",
        "\r\n",
        "scaler= StandardScaler()\r\n",
        "\r\n",
        "scaled_features2= scaler.fit_transform(features)\r\n",
        "scaled_features2"
      ],
      "execution_count": null,
      "outputs": [
        {
          "output_type": "execute_result",
          "data": {
            "text/plain": [
              "array([[ 0.67648946,  0.32758048,  1.6170861 , ...,  1.99072703,\n",
              "        -0.0715836 , -0.08500823],\n",
              "       [ 0.14906505,  0.32758048,  1.6170861 , ...,  1.56451025,\n",
              "        -0.10708191,  1.24048169],\n",
              "       [ 0.9025285 ,  0.32758048, -0.61839626, ..., -0.26213309,\n",
              "        -1.57434567,  0.70312091],\n",
              "       ...,\n",
              "       [-1.83505538,  0.32758048, -0.61839626, ..., -0.01858065,\n",
              "         1.73094204,  1.3837779 ],\n",
              "       [ 2.08295458, -3.05268496, -0.61839626, ..., -0.38390932,\n",
              "        -0.81704825, -1.87621082],\n",
              "       [-0.67974475,  0.32758048,  1.6170861 , ...,  2.66049626,\n",
              "         1.28129669,  1.24048169]])"
            ]
          },
          "metadata": {
            "tags": []
          },
          "execution_count": 21
        }
      ]
    },
    {
      "cell_type": "code",
      "metadata": {
        "colab": {
          "base_uri": "https://localhost:8080/",
          "height": 204
        },
        "id": "1_i78EoE4upp",
        "outputId": "1c761287-6256-411a-9213-f4ddb90e31aa"
      },
      "source": [
        "features_scaled_df2= pd.DataFrame(scaled_features2, columns= features.columns)\r\n",
        "features_scaled_df2.head()"
      ],
      "execution_count": null,
      "outputs": [
        {
          "output_type": "execute_result",
          "data": {
            "text/html": [
              "<div>\n",
              "<style scoped>\n",
              "    .dataframe tbody tr th:only-of-type {\n",
              "        vertical-align: middle;\n",
              "    }\n",
              "\n",
              "    .dataframe tbody tr th {\n",
              "        vertical-align: top;\n",
              "    }\n",
              "\n",
              "    .dataframe thead th {\n",
              "        text-align: right;\n",
              "    }\n",
              "</style>\n",
              "<table border=\"1\" class=\"dataframe\">\n",
              "  <thead>\n",
              "    <tr style=\"text-align: right;\">\n",
              "      <th></th>\n",
              "      <th>AccountWeeks</th>\n",
              "      <th>ContractRenewal</th>\n",
              "      <th>DataPlan</th>\n",
              "      <th>DataUsage</th>\n",
              "      <th>CustServCalls</th>\n",
              "      <th>DayMins</th>\n",
              "      <th>DayCalls</th>\n",
              "      <th>MonthlyCharge</th>\n",
              "      <th>OverageFee</th>\n",
              "      <th>RoamMins</th>\n",
              "    </tr>\n",
              "  </thead>\n",
              "  <tbody>\n",
              "    <tr>\n",
              "      <th>0</th>\n",
              "      <td>0.676489</td>\n",
              "      <td>0.327580</td>\n",
              "      <td>1.617086</td>\n",
              "      <td>1.480204</td>\n",
              "      <td>-0.427932</td>\n",
              "      <td>1.566767</td>\n",
              "      <td>0.476643</td>\n",
              "      <td>1.990727</td>\n",
              "      <td>-0.071584</td>\n",
              "      <td>-0.085008</td>\n",
              "    </tr>\n",
              "    <tr>\n",
              "      <th>1</th>\n",
              "      <td>0.149065</td>\n",
              "      <td>0.327580</td>\n",
              "      <td>1.617086</td>\n",
              "      <td>2.266072</td>\n",
              "      <td>-0.427932</td>\n",
              "      <td>-0.333738</td>\n",
              "      <td>1.124503</td>\n",
              "      <td>1.564510</td>\n",
              "      <td>-0.107082</td>\n",
              "      <td>1.240482</td>\n",
              "    </tr>\n",
              "    <tr>\n",
              "      <th>2</th>\n",
              "      <td>0.902529</td>\n",
              "      <td>0.327580</td>\n",
              "      <td>-0.618396</td>\n",
              "      <td>-0.641642</td>\n",
              "      <td>-1.188218</td>\n",
              "      <td>1.168304</td>\n",
              "      <td>0.675985</td>\n",
              "      <td>-0.262133</td>\n",
              "      <td>-1.574346</td>\n",
              "      <td>0.703121</td>\n",
              "    </tr>\n",
              "    <tr>\n",
              "      <th>3</th>\n",
              "      <td>-0.428590</td>\n",
              "      <td>-3.052685</td>\n",
              "      <td>-0.618396</td>\n",
              "      <td>-0.641642</td>\n",
              "      <td>0.332354</td>\n",
              "      <td>2.196596</td>\n",
              "      <td>-1.466936</td>\n",
              "      <td>0.042307</td>\n",
              "      <td>-2.741846</td>\n",
              "      <td>-1.303026</td>\n",
              "    </tr>\n",
              "    <tr>\n",
              "      <th>4</th>\n",
              "      <td>-0.654629</td>\n",
              "      <td>-3.052685</td>\n",
              "      <td>-0.618396</td>\n",
              "      <td>-0.641642</td>\n",
              "      <td>1.092641</td>\n",
              "      <td>-0.240090</td>\n",
              "      <td>0.626149</td>\n",
              "      <td>-0.931902</td>\n",
              "      <td>-1.037927</td>\n",
              "      <td>-0.049184</td>\n",
              "    </tr>\n",
              "  </tbody>\n",
              "</table>\n",
              "</div>"
            ],
            "text/plain": [
              "   AccountWeeks  ContractRenewal  DataPlan  ...  MonthlyCharge  OverageFee  RoamMins\n",
              "0      0.676489         0.327580  1.617086  ...       1.990727   -0.071584 -0.085008\n",
              "1      0.149065         0.327580  1.617086  ...       1.564510   -0.107082  1.240482\n",
              "2      0.902529         0.327580 -0.618396  ...      -0.262133   -1.574346  0.703121\n",
              "3     -0.428590        -3.052685 -0.618396  ...       0.042307   -2.741846 -1.303026\n",
              "4     -0.654629        -3.052685 -0.618396  ...      -0.931902   -1.037927 -0.049184\n",
              "\n",
              "[5 rows x 10 columns]"
            ]
          },
          "metadata": {
            "tags": []
          },
          "execution_count": 22
        }
      ]
    },
    {
      "cell_type": "code",
      "metadata": {
        "id": "uUmRzFQF5C4L"
      },
      "source": [
        ""
      ],
      "execution_count": null,
      "outputs": []
    }
  ]
}