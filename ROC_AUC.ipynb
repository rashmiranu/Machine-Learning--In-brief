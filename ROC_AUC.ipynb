{
  "nbformat": 4,
  "nbformat_minor": 0,
  "metadata": {
    "colab": {
      "name": "ROC_AUC.ipynb",
      "provenance": []
    },
    "kernelspec": {
      "name": "python3",
      "display_name": "Python 3"
    }
  },
  "cells": [
    {
      "cell_type": "code",
      "metadata": {
        "id": "xh2ZooECZjjD"
      },
      "source": [
        "import pandas as pd"
      ],
      "execution_count": 131,
      "outputs": []
    },
    {
      "cell_type": "code",
      "metadata": {
        "colab": {
          "base_uri": "https://localhost:8080/",
          "height": 221
        },
        "id": "0fSbx1nMaFfC",
        "outputId": "e55bbe05-efc6-4398-d7c7-f790f31491dc"
      },
      "source": [
        "data= pd.read_csv(\"/content/drive/MyDrive/Data Science /datasets/telecom_churn.csv\")\r\n",
        "\r\n",
        "print(data.shape)\r\n",
        "data.head()"
      ],
      "execution_count": 132,
      "outputs": [
        {
          "output_type": "stream",
          "text": [
            "(3333, 11)\n"
          ],
          "name": "stdout"
        },
        {
          "output_type": "execute_result",
          "data": {
            "text/html": [
              "<div>\n",
              "<style scoped>\n",
              "    .dataframe tbody tr th:only-of-type {\n",
              "        vertical-align: middle;\n",
              "    }\n",
              "\n",
              "    .dataframe tbody tr th {\n",
              "        vertical-align: top;\n",
              "    }\n",
              "\n",
              "    .dataframe thead th {\n",
              "        text-align: right;\n",
              "    }\n",
              "</style>\n",
              "<table border=\"1\" class=\"dataframe\">\n",
              "  <thead>\n",
              "    <tr style=\"text-align: right;\">\n",
              "      <th></th>\n",
              "      <th>Churn</th>\n",
              "      <th>AccountWeeks</th>\n",
              "      <th>ContractRenewal</th>\n",
              "      <th>DataPlan</th>\n",
              "      <th>DataUsage</th>\n",
              "      <th>CustServCalls</th>\n",
              "      <th>DayMins</th>\n",
              "      <th>DayCalls</th>\n",
              "      <th>MonthlyCharge</th>\n",
              "      <th>OverageFee</th>\n",
              "      <th>RoamMins</th>\n",
              "    </tr>\n",
              "  </thead>\n",
              "  <tbody>\n",
              "    <tr>\n",
              "      <th>0</th>\n",
              "      <td>0</td>\n",
              "      <td>128</td>\n",
              "      <td>1</td>\n",
              "      <td>1</td>\n",
              "      <td>2.7</td>\n",
              "      <td>1</td>\n",
              "      <td>265.1</td>\n",
              "      <td>110</td>\n",
              "      <td>89.0</td>\n",
              "      <td>9.87</td>\n",
              "      <td>10.0</td>\n",
              "    </tr>\n",
              "    <tr>\n",
              "      <th>1</th>\n",
              "      <td>0</td>\n",
              "      <td>107</td>\n",
              "      <td>1</td>\n",
              "      <td>1</td>\n",
              "      <td>3.7</td>\n",
              "      <td>1</td>\n",
              "      <td>161.6</td>\n",
              "      <td>123</td>\n",
              "      <td>82.0</td>\n",
              "      <td>9.78</td>\n",
              "      <td>13.7</td>\n",
              "    </tr>\n",
              "    <tr>\n",
              "      <th>2</th>\n",
              "      <td>0</td>\n",
              "      <td>137</td>\n",
              "      <td>1</td>\n",
              "      <td>0</td>\n",
              "      <td>0.0</td>\n",
              "      <td>0</td>\n",
              "      <td>243.4</td>\n",
              "      <td>114</td>\n",
              "      <td>52.0</td>\n",
              "      <td>6.06</td>\n",
              "      <td>12.2</td>\n",
              "    </tr>\n",
              "    <tr>\n",
              "      <th>3</th>\n",
              "      <td>0</td>\n",
              "      <td>84</td>\n",
              "      <td>0</td>\n",
              "      <td>0</td>\n",
              "      <td>0.0</td>\n",
              "      <td>2</td>\n",
              "      <td>299.4</td>\n",
              "      <td>71</td>\n",
              "      <td>57.0</td>\n",
              "      <td>3.10</td>\n",
              "      <td>6.6</td>\n",
              "    </tr>\n",
              "    <tr>\n",
              "      <th>4</th>\n",
              "      <td>0</td>\n",
              "      <td>75</td>\n",
              "      <td>0</td>\n",
              "      <td>0</td>\n",
              "      <td>0.0</td>\n",
              "      <td>3</td>\n",
              "      <td>166.7</td>\n",
              "      <td>113</td>\n",
              "      <td>41.0</td>\n",
              "      <td>7.42</td>\n",
              "      <td>10.1</td>\n",
              "    </tr>\n",
              "  </tbody>\n",
              "</table>\n",
              "</div>"
            ],
            "text/plain": [
              "   Churn  AccountWeeks  ContractRenewal  ...  MonthlyCharge  OverageFee  RoamMins\n",
              "0      0           128                1  ...           89.0        9.87      10.0\n",
              "1      0           107                1  ...           82.0        9.78      13.7\n",
              "2      0           137                1  ...           52.0        6.06      12.2\n",
              "3      0            84                0  ...           57.0        3.10       6.6\n",
              "4      0            75                0  ...           41.0        7.42      10.1\n",
              "\n",
              "[5 rows x 11 columns]"
            ]
          },
          "metadata": {
            "tags": []
          },
          "execution_count": 132
        }
      ]
    },
    {
      "cell_type": "code",
      "metadata": {
        "colab": {
          "base_uri": "https://localhost:8080/"
        },
        "id": "OFAdU5XbaNAr",
        "outputId": "8ddcc8c2-fd34-461c-f4df-9b1ab9a8de97"
      },
      "source": [
        "# checking missing values\r\n",
        "data.isnull().sum()"
      ],
      "execution_count": 133,
      "outputs": [
        {
          "output_type": "execute_result",
          "data": {
            "text/plain": [
              "Churn              0\n",
              "AccountWeeks       0\n",
              "ContractRenewal    0\n",
              "DataPlan           0\n",
              "DataUsage          0\n",
              "CustServCalls      0\n",
              "DayMins            0\n",
              "DayCalls           0\n",
              "MonthlyCharge      0\n",
              "OverageFee         0\n",
              "RoamMins           0\n",
              "dtype: int64"
            ]
          },
          "metadata": {
            "tags": []
          },
          "execution_count": 133
        }
      ]
    },
    {
      "cell_type": "markdown",
      "metadata": {
        "id": "WcUU_xdla_h6"
      },
      "source": [
        "*There are no missing values*"
      ]
    },
    {
      "cell_type": "markdown",
      "metadata": {
        "id": "H-yh9JRkdbkf"
      },
      "source": [
        "## Target Column"
      ]
    },
    {
      "cell_type": "code",
      "metadata": {
        "colab": {
          "base_uri": "https://localhost:8080/",
          "height": 350
        },
        "id": "l9RoRWY-dWDk",
        "outputId": "b0139619-9304-470d-d58c-da2e82497a88"
      },
      "source": [
        "import seaborn as sns\r\n",
        "sns.countplot(data[\"Churn\"], palette= \"mako\")"
      ],
      "execution_count": 134,
      "outputs": [
        {
          "output_type": "stream",
          "text": [
            "/usr/local/lib/python3.7/dist-packages/seaborn/_decorators.py:43: FutureWarning: Pass the following variable as a keyword arg: x. From version 0.12, the only valid positional argument will be `data`, and passing other arguments without an explicit keyword will result in an error or misinterpretation.\n",
            "  FutureWarning\n"
          ],
          "name": "stderr"
        },
        {
          "output_type": "execute_result",
          "data": {
            "text/plain": [
              "<matplotlib.axes._subplots.AxesSubplot at 0x7fb0b8920410>"
            ]
          },
          "metadata": {
            "tags": []
          },
          "execution_count": 134
        },
        {
          "output_type": "display_data",
          "data": {
            "image/png": "[encoded data removed]",
            "text/plain": [
              "<Figure size 432x288 with 1 Axes>"
            ]
          },
          "metadata": {
            "tags": [],
            "needs_background": "light"
          }
        }
      ]
    },
    {
      "cell_type": "code",
      "metadata": {
        "colab": {
          "base_uri": "https://localhost:8080/"
        },
        "id": "DRYtJg2ia00e",
        "outputId": "11a53af5-3e9e-4069-934d-84fe6d707ce4"
      },
      "source": [
        "print(\"percentage of 0 and 1 in target column :\\n\", data[\"Churn\"].value_counts()/ len(data)*100)"
      ],
      "execution_count": 135,
      "outputs": [
        {
          "output_type": "stream",
          "text": [
            "percentage of 0 and 1 in target column :\n",
            " 0    85.508551\n",
            "1    14.491449\n",
            "Name: Churn, dtype: float64\n"
          ],
          "name": "stdout"
        }
      ]
    },
    {
      "cell_type": "markdown",
      "metadata": {
        "id": "OoUzxZh5caFl"
      },
      "source": [
        "*The class distribution in the target variable is ~86:14 indicating an imbalanced dataset*"
      ]
    },
    {
      "cell_type": "markdown",
      "metadata": {
        "id": "JxYhPbPLd9Tk"
      },
      "source": [
        "### Separating features and target"
      ]
    },
    {
      "cell_type": "code",
      "metadata": {
        "id": "Gzmj0AfMeEJg"
      },
      "source": [
        "# features\r\n",
        "x= data.iloc[:, 1:]\r\n",
        "\r\n",
        "# target\r\n",
        "y= data.iloc[:, 0]"
      ],
      "execution_count": 136,
      "outputs": []
    },
    {
      "cell_type": "markdown",
      "metadata": {
        "id": "0JYY-MCrdiQH"
      },
      "source": [
        "## Handling Imbalanced Dataset"
      ]
    },
    {
      "cell_type": "code",
      "metadata": {
        "colab": {
          "base_uri": "https://localhost:8080/"
        },
        "id": "b2R0ew78bjGM",
        "outputId": "9f7ea73a-ec19-4972-f015-54c474aacccb"
      },
      "source": [
        "from imblearn.combine import SMOTETomek\r\n",
        "\r\n",
        "smote= SMOTETomek()\r\n",
        "x_sm, y_sm = smote.fit_sample(x, y)"
      ],
      "execution_count": 137,
      "outputs": [
        {
          "output_type": "stream",
          "text": [
            "/usr/local/lib/python3.7/dist-packages/sklearn/utils/deprecation.py:87: FutureWarning: Function safe_indexing is deprecated; safe_indexing is deprecated in version 0.22 and will be removed in version 0.24.\n",
            "  warnings.warn(msg, category=FutureWarning)\n",
            "/usr/local/lib/python3.7/dist-packages/sklearn/utils/deprecation.py:87: FutureWarning: Function safe_indexing is deprecated; safe_indexing is deprecated in version 0.22 and will be removed in version 0.24.\n",
            "  warnings.warn(msg, category=FutureWarning)\n"
          ],
          "name": "stderr"
        }
      ]
    },
    {
      "cell_type": "markdown",
      "metadata": {
        "id": "ZloKhHbsgFWt"
      },
      "source": [
        "### Feature Scaling"
      ]
    },
    {
      "cell_type": "code",
      "metadata": {
        "colab": {
          "base_uri": "https://localhost:8080/"
        },
        "id": "ETsMdznKf0tX",
        "outputId": "f108ea4e-b8f5-4af5-c3d1-17109c502a06"
      },
      "source": [
        "from sklearn.preprocessing import MinMaxScaler\r\n",
        "\r\n",
        "scaler= MinMaxScaler()\r\n",
        "scaled_features= scaler.fit_transform(x_sm)\r\n",
        "scaled_features"
      ],
      "execution_count": 138,
      "outputs": [
        {
          "output_type": "execute_result",
          "data": {
            "text/plain": [
              "array([[0.52479339, 1.        , 1.        , ..., 0.7667364 , 0.54260583,\n",
              "        0.5       ],\n",
              "       [0.43801653, 1.        , 1.        , ..., 0.69351464, 0.53765805,\n",
              "        0.685     ],\n",
              "       [0.56198347, 1.        , 0.        , ..., 0.37970711, 0.33315008,\n",
              "        0.61      ],\n",
              "       ...,\n",
              "       [0.65117851, 0.        , 0.        , ..., 0.16637332, 0.74291179,\n",
              "        0.62519584],\n",
              "       [0.36382971, 1.        , 0.26847376, ..., 0.45265075, 0.80396412,\n",
              "        0.32832528],\n",
              "       [0.7311173 , 1.        , 0.        , ..., 0.51143346, 0.53080638,\n",
              "        0.61028784]])"
            ]
          },
          "metadata": {
            "tags": []
          },
          "execution_count": 138
        }
      ]
    },
    {
      "cell_type": "code",
      "metadata": {
        "colab": {
          "base_uri": "https://localhost:8080/",
          "height": 142
        },
        "id": "6L27zFstgRNl",
        "outputId": "9b1fb431-7e17-4d1f-f71f-4ff368f11ef8"
      },
      "source": [
        "scaled_features= pd.DataFrame(scaled_features, columns= x.columns)\r\n",
        "scaled_features.head(3)"
      ],
      "execution_count": 139,
      "outputs": [
        {
          "output_type": "execute_result",
          "data": {
            "text/html": [
              "<div>\n",
              "<style scoped>\n",
              "    .dataframe tbody tr th:only-of-type {\n",
              "        vertical-align: middle;\n",
              "    }\n",
              "\n",
              "    .dataframe tbody tr th {\n",
              "        vertical-align: top;\n",
              "    }\n",
              "\n",
              "    .dataframe thead th {\n",
              "        text-align: right;\n",
              "    }\n",
              "</style>\n",
              "<table border=\"1\" class=\"dataframe\">\n",
              "  <thead>\n",
              "    <tr style=\"text-align: right;\">\n",
              "      <th></th>\n",
              "      <th>AccountWeeks</th>\n",
              "      <th>ContractRenewal</th>\n",
              "      <th>DataPlan</th>\n",
              "      <th>DataUsage</th>\n",
              "      <th>CustServCalls</th>\n",
              "      <th>DayMins</th>\n",
              "      <th>DayCalls</th>\n",
              "      <th>MonthlyCharge</th>\n",
              "      <th>OverageFee</th>\n",
              "      <th>RoamMins</th>\n",
              "    </tr>\n",
              "  </thead>\n",
              "  <tbody>\n",
              "    <tr>\n",
              "      <th>0</th>\n",
              "      <td>0.524793</td>\n",
              "      <td>1.0</td>\n",
              "      <td>1.0</td>\n",
              "      <td>0.500000</td>\n",
              "      <td>0.111111</td>\n",
              "      <td>0.753877</td>\n",
              "      <td>0.592593</td>\n",
              "      <td>0.766736</td>\n",
              "      <td>0.542606</td>\n",
              "      <td>0.500</td>\n",
              "    </tr>\n",
              "    <tr>\n",
              "      <th>1</th>\n",
              "      <td>0.438017</td>\n",
              "      <td>1.0</td>\n",
              "      <td>1.0</td>\n",
              "      <td>0.685185</td>\n",
              "      <td>0.111111</td>\n",
              "      <td>0.456634</td>\n",
              "      <td>0.688889</td>\n",
              "      <td>0.693515</td>\n",
              "      <td>0.537658</td>\n",
              "      <td>0.685</td>\n",
              "    </tr>\n",
              "    <tr>\n",
              "      <th>2</th>\n",
              "      <td>0.561983</td>\n",
              "      <td>1.0</td>\n",
              "      <td>0.0</td>\n",
              "      <td>0.000000</td>\n",
              "      <td>0.000000</td>\n",
              "      <td>0.691557</td>\n",
              "      <td>0.622222</td>\n",
              "      <td>0.379707</td>\n",
              "      <td>0.333150</td>\n",
              "      <td>0.610</td>\n",
              "    </tr>\n",
              "  </tbody>\n",
              "</table>\n",
              "</div>"
            ],
            "text/plain": [
              "   AccountWeeks  ContractRenewal  DataPlan  ...  MonthlyCharge  OverageFee  RoamMins\n",
              "0      0.524793              1.0       1.0  ...       0.766736    0.542606     0.500\n",
              "1      0.438017              1.0       1.0  ...       0.693515    0.537658     0.685\n",
              "2      0.561983              1.0       0.0  ...       0.379707    0.333150     0.610\n",
              "\n",
              "[3 rows x 10 columns]"
            ]
          },
          "metadata": {
            "tags": []
          },
          "execution_count": 139
        }
      ]
    },
    {
      "cell_type": "code",
      "metadata": {
        "colab": {
          "base_uri": "https://localhost:8080/"
        },
        "id": "I7vPxOTNkkBM",
        "outputId": "87848607-f5f3-4622-8deb-0bb9daa4ffac"
      },
      "source": [
        "# final feature\r\n",
        "scaled_features\r\n",
        "\r\n",
        "# final target\r\n",
        "y_sm"
      ],
      "execution_count": 140,
      "outputs": [
        {
          "output_type": "execute_result",
          "data": {
            "text/plain": [
              "array([0, 0, 0, ..., 1, 1, 1])"
            ]
          },
          "metadata": {
            "tags": []
          },
          "execution_count": 140
        }
      ]
    },
    {
      "cell_type": "markdown",
      "metadata": {
        "id": "dEi_EHr0igL5"
      },
      "source": [
        "### Splitting into Train and Test data"
      ]
    },
    {
      "cell_type": "code",
      "metadata": {
        "id": "3FxzRo3rj2HW"
      },
      "source": [
        "from sklearn.model_selection import train_test_split\r\n",
        "\r\n",
        "x_train, x_test, y_train, y_test= train_test_split(scaled_features, y_sm, test_size=0.2, random_state=10)"
      ],
      "execution_count": 148,
      "outputs": []
    },
    {
      "cell_type": "markdown",
      "metadata": {
        "id": "Pzd7taIChotu"
      },
      "source": [
        "### Implementing Logistic Regression"
      ]
    },
    {
      "cell_type": "code",
      "metadata": {
        "colab": {
          "base_uri": "https://localhost:8080/"
        },
        "id": "FHhDVz8Eg3Qx",
        "outputId": "c572dd29-0982-4a8c-f781-4df76a7cccea"
      },
      "source": [
        "from sklearn.linear_model import LogisticRegression\r\n",
        "\r\n",
        "model= LogisticRegression()\r\n",
        "model.fit(x_train, y_train)"
      ],
      "execution_count": 149,
      "outputs": [
        {
          "output_type": "execute_result",
          "data": {
            "text/plain": [
              "LogisticRegression(C=1.0, class_weight=None, dual=False, fit_intercept=True,\n",
              "                   intercept_scaling=1, l1_ratio=None, max_iter=100,\n",
              "                   multi_class='auto', n_jobs=None, penalty='l2',\n",
              "                   random_state=None, solver='lbfgs', tol=0.0001, verbose=0,\n",
              "                   warm_start=False)"
            ]
          },
          "metadata": {
            "tags": []
          },
          "execution_count": 149
        }
      ]
    },
    {
      "cell_type": "code",
      "metadata": {
        "colab": {
          "base_uri": "https://localhost:8080/"
        },
        "id": "EccAtT0oh5tj",
        "outputId": "f061c6eb-4404-4741-b490-69b3ebf16416"
      },
      "source": [
        "y_predicted= model.predict_proba(x_test)\r\n",
        "y_predicted"
      ],
      "execution_count": 150,
      "outputs": [
        {
          "output_type": "execute_result",
          "data": {
            "text/plain": [
              "array([[0.33748878, 0.66251122],\n",
              "       [0.21348692, 0.78651308],\n",
              "       [0.13301933, 0.86698067],\n",
              "       ...,\n",
              "       [0.5541835 , 0.4458165 ],\n",
              "       [0.15390532, 0.84609468],\n",
              "       [0.0423636 , 0.9576364 ]])"
            ]
          },
          "metadata": {
            "tags": []
          },
          "execution_count": 150
        }
      ]
    },
    {
      "cell_type": "code",
      "metadata": {
        "colab": {
          "base_uri": "https://localhost:8080/"
        },
        "id": "c4iyYTbSlrsH",
        "outputId": "e3302eb9-c8a2-409a-a8cd-11e590802ff6"
      },
      "source": [
        "# taking only probability of being \"1\"\r\n",
        "y_predicted= y_predicted[:, 1]\r\n",
        "y_predicted"
      ],
      "execution_count": 151,
      "outputs": [
        {
          "output_type": "execute_result",
          "data": {
            "text/plain": [
              "array([0.66251122, 0.78651308, 0.86698067, ..., 0.4458165 , 0.84609468,\n",
              "       0.9576364 ])"
            ]
          },
          "metadata": {
            "tags": []
          },
          "execution_count": 151
        }
      ]
    },
    {
      "cell_type": "markdown",
      "metadata": {
        "id": "PXCaDMxV0jMj"
      },
      "source": [
        "## ROC - AUC"
      ]
    },
    {
      "cell_type": "code",
      "metadata": {
        "id": "x3xcE_L_wSbh"
      },
      "source": [
        "# calculating False Positive Rate, True Positive Rate and Threshold values\r\n",
        "from sklearn.metrics import roc_curve\r\n",
        "fpr, tpr, threshold = roc_curve(y_test, y_predicted)"
      ],
      "execution_count": 152,
      "outputs": []
    },
    {
      "cell_type": "code",
      "metadata": {
        "colab": {
          "base_uri": "https://localhost:8080/",
          "height": 421
        },
        "id": "QLV3-Rah0d37",
        "outputId": "31b90a7a-968f-436a-c2f6-fa328093053b"
      },
      "source": [
        "# plotting ROC\r\n",
        "import matplotlib.pyplot as plt\r\n",
        "\r\n",
        "plt.figure(figsize=(9,6))\r\n",
        "plt.plot(fpr, tpr, marker= \"o\", markerfacecolor= \"coral\")\r\n",
        "plt.xlabel(\"False positive rate\")\r\n",
        "plt.ylabel(\"True positive rate\")\r\n",
        "plt.title(\"ROC - AUC\")"
      ],
      "execution_count": 153,
      "outputs": [
        {
          "output_type": "execute_result",
          "data": {
            "text/plain": [
              "Text(0.5, 1.0, 'ROC - AUC')"
            ]
          },
          "metadata": {
            "tags": []
          },
          "execution_count": 153
        },
        {
          "output_type": "display_data",
          "data": {
            "image/png": "[encoded data removed]",
            "text/plain": [
              "<Figure size 648x432 with 1 Axes>"
            ]
          },
          "metadata": {
            "tags": [],
            "needs_background": "light"
          }
        }
      ]
    },
    {
      "cell_type": "code",
      "metadata": {
        "colab": {
          "base_uri": "https://localhost:8080/"
        },
        "id": "YbbVmNnolh3s",
        "outputId": "854b3a59-5fad-4d0b-d37a-3fa5a1e8a28f"
      },
      "source": [
        "# calculating Area Under Curve (AUC)\r\n",
        "from sklearn.metrics import roc_auc_score\r\n",
        "roc_auc_score(y_test, y_predicted)"
      ],
      "execution_count": 154,
      "outputs": [
        {
          "output_type": "execute_result",
          "data": {
            "text/plain": [
              "0.838953680714591"
            ]
          },
          "metadata": {
            "tags": []
          },
          "execution_count": 154
        }
      ]
    },
    {
      "cell_type": "code",
      "metadata": {
        "id": "JYCn2HLMyuUj"
      },
      "source": [
        ""
      ],
      "execution_count": 147,
      "outputs": []
    }
  ]
}